{
  "nbformat": 4,
  "nbformat_minor": 0,
  "metadata": {
    "kernelspec": {
      "display_name": "Python 3",
      "language": "python",
      "name": "python3"
    },
    "language_info": {
      "codemirror_mode": {
        "name": "ipython",
        "version": 3
      },
      "file_extension": ".py",
      "mimetype": "text/x-python",
      "name": "python",
      "nbconvert_exporter": "python",
      "pygments_lexer": "ipython3",
      "version": "3.6.9"
    },
    "colab": {
      "name": "Model_Names.ipynb",
      "provenance": [],
      "collapsed_sections": [
        "YXEhTbSzv7Wb"
      ],
      "include_colab_link": true
    }
  },
  "cells": [
    {
      "cell_type": "markdown",
      "metadata": {
        "id": "view-in-github",
        "colab_type": "text"
      },
      "source": [
        "<a href=\"https://colab.research.google.com/github/MercadoMR/AITraining/blob/main/Model_Names.ipynb\" target=\"_parent\"><img src=\"https://colab.research.google.com/assets/colab-badge.svg\" alt=\"Open In Colab\"/></a>"
      ]
    },
    {
      "cell_type": "code",
      "source": [
        "%load_ext autoreload\n",
        "%autoreload\n",
        "import numpy as np\n",
        "import pandas as pd\n",
        "import json\n",
        "import re\n",
        "import nltk\n",
        "from nltk import word_tokenize\n",
        "from nltk.corpus import stopwords\n",
        "\n",
        "from sklearn.model_selection import train_test_split\n",
        "\n",
        "nltk.download('stopwords')\n",
        "nltk.download('punkt')\n",
        "\n",
        "!pip install unidecode\n",
        "!pip install faker\n",
        "\n",
        "import unidecode"
      ],
      "metadata": {
        "colab": {
          "base_uri": "https://localhost:8080/"
        },
        "id": "AXU2nYNB4wHp",
        "outputId": "2f559a65-01b9-4a31-bbbb-2eec4ebd9031"
      },
      "execution_count": null,
      "outputs": [
        {
          "output_type": "stream",
          "name": "stdout",
          "text": [
            "[nltk_data] Downloading package stopwords to /root/nltk_data...\n",
            "[nltk_data]   Unzipping corpora/stopwords.zip.\n",
            "[nltk_data] Downloading package punkt to /root/nltk_data...\n",
            "[nltk_data]   Unzipping tokenizers/punkt.zip.\n",
            "Collecting unidecode\n",
            "  Downloading Unidecode-1.3.4-py3-none-any.whl (235 kB)\n",
            "\u001b[K     |████████████████████████████████| 235 kB 4.8 MB/s \n",
            "\u001b[?25hInstalling collected packages: unidecode\n",
            "Successfully installed unidecode-1.3.4\n",
            "Collecting faker\n",
            "  Downloading Faker-13.3.5-py3-none-any.whl (1.5 MB)\n",
            "\u001b[K     |████████████████████████████████| 1.5 MB 5.1 MB/s \n",
            "\u001b[?25hRequirement already satisfied: typing-extensions>=3.10.0.2 in /usr/local/lib/python3.7/dist-packages (from faker) (4.1.1)\n",
            "Requirement already satisfied: python-dateutil>=2.4 in /usr/local/lib/python3.7/dist-packages (from faker) (2.8.2)\n",
            "Requirement already satisfied: six>=1.5 in /usr/local/lib/python3.7/dist-packages (from python-dateutil>=2.4->faker) (1.15.0)\n",
            "Installing collected packages: faker\n",
            "Successfully installed faker-13.3.5\n"
          ]
        }
      ]
    },
    {
      "cell_type": "markdown",
      "metadata": {
        "id": "s2Wfu5p3v7V1"
      },
      "source": [
        "# Feature Extraction from Text\n",
        "\n",
        "## Load a dataset"
      ]
    },
    {
      "cell_type": "code",
      "metadata": {
        "id": "U-sadd-tv7WB",
        "colab": {
          "base_uri": "https://localhost:8080/",
          "height": 363
        },
        "outputId": "5faba03e-3518-4dc5-fe13-b6cacb8156db"
      },
      "source": [
        "desc_csv = 'names_bd_2 (1).csv'\n",
        "df = pd.read_csv(desc_csv,  encoding='utf-8')\n",
        "df.head(10)"
      ],
      "execution_count": null,
      "outputs": [
        {
          "output_type": "execute_result",
          "data": {
            "text/plain": [
              "                                      Nombre etiqueta\n",
              "0                               Eric Montoya     name\n",
              "1                           Francisca Magaña     name\n",
              "2                               Javier Cabán     name\n",
              "3                         Luz Ilse Arce Alba     name\n",
              "4            Cristian Isabela Molina Estévez     name\n",
              "5                   Claudia Mercedes Mayorga     name\n",
              "6               Nelly Mateo Castro Benavides     name\n",
              "7                              Sessa Medrano     name\n",
              "8  Gabriel María Cristina Ballesteros Rascón     name\n",
              "9                        Patricio de la Crúz     name"
            ],
            "text/html": [
              "\n",
              "  <div id=\"df-0c523570-d409-47a0-a2a5-e9dc34717dc9\">\n",
              "    <div class=\"colab-df-container\">\n",
              "      <div>\n",
              "<style scoped>\n",
              "    .dataframe tbody tr th:only-of-type {\n",
              "        vertical-align: middle;\n",
              "    }\n",
              "\n",
              "    .dataframe tbody tr th {\n",
              "        vertical-align: top;\n",
              "    }\n",
              "\n",
              "    .dataframe thead th {\n",
              "        text-align: right;\n",
              "    }\n",
              "</style>\n",
              "<table border=\"1\" class=\"dataframe\">\n",
              "  <thead>\n",
              "    <tr style=\"text-align: right;\">\n",
              "      <th></th>\n",
              "      <th>Nombre</th>\n",
              "      <th>etiqueta</th>\n",
              "    </tr>\n",
              "  </thead>\n",
              "  <tbody>\n",
              "    <tr>\n",
              "      <th>0</th>\n",
              "      <td>Eric Montoya</td>\n",
              "      <td>name</td>\n",
              "    </tr>\n",
              "    <tr>\n",
              "      <th>1</th>\n",
              "      <td>Francisca Magaña</td>\n",
              "      <td>name</td>\n",
              "    </tr>\n",
              "    <tr>\n",
              "      <th>2</th>\n",
              "      <td>Javier Cabán</td>\n",
              "      <td>name</td>\n",
              "    </tr>\n",
              "    <tr>\n",
              "      <th>3</th>\n",
              "      <td>Luz Ilse Arce Alba</td>\n",
              "      <td>name</td>\n",
              "    </tr>\n",
              "    <tr>\n",
              "      <th>4</th>\n",
              "      <td>Cristian Isabela Molina Estévez</td>\n",
              "      <td>name</td>\n",
              "    </tr>\n",
              "    <tr>\n",
              "      <th>5</th>\n",
              "      <td>Claudia Mercedes Mayorga</td>\n",
              "      <td>name</td>\n",
              "    </tr>\n",
              "    <tr>\n",
              "      <th>6</th>\n",
              "      <td>Nelly Mateo Castro Benavides</td>\n",
              "      <td>name</td>\n",
              "    </tr>\n",
              "    <tr>\n",
              "      <th>7</th>\n",
              "      <td>Sessa Medrano</td>\n",
              "      <td>name</td>\n",
              "    </tr>\n",
              "    <tr>\n",
              "      <th>8</th>\n",
              "      <td>Gabriel María Cristina Ballesteros Rascón</td>\n",
              "      <td>name</td>\n",
              "    </tr>\n",
              "    <tr>\n",
              "      <th>9</th>\n",
              "      <td>Patricio de la Crúz</td>\n",
              "      <td>name</td>\n",
              "    </tr>\n",
              "  </tbody>\n",
              "</table>\n",
              "</div>\n",
              "      <button class=\"colab-df-convert\" onclick=\"convertToInteractive('df-0c523570-d409-47a0-a2a5-e9dc34717dc9')\"\n",
              "              title=\"Convert this dataframe to an interactive table.\"\n",
              "              style=\"display:none;\">\n",
              "        \n",
              "  <svg xmlns=\"http://www.w3.org/2000/svg\" height=\"24px\"viewBox=\"0 0 24 24\"\n",
              "       width=\"24px\">\n",
              "    <path d=\"M0 0h24v24H0V0z\" fill=\"none\"/>\n",
              "    <path d=\"M18.56 5.44l.94 2.06.94-2.06 2.06-.94-2.06-.94-.94-2.06-.94 2.06-2.06.94zm-11 1L8.5 8.5l.94-2.06 2.06-.94-2.06-.94L8.5 2.5l-.94 2.06-2.06.94zm10 10l.94 2.06.94-2.06 2.06-.94-2.06-.94-.94-2.06-.94 2.06-2.06.94z\"/><path d=\"M17.41 7.96l-1.37-1.37c-.4-.4-.92-.59-1.43-.59-.52 0-1.04.2-1.43.59L10.3 9.45l-7.72 7.72c-.78.78-.78 2.05 0 2.83L4 21.41c.39.39.9.59 1.41.59.51 0 1.02-.2 1.41-.59l7.78-7.78 2.81-2.81c.8-.78.8-2.07 0-2.86zM5.41 20L4 18.59l7.72-7.72 1.47 1.35L5.41 20z\"/>\n",
              "  </svg>\n",
              "      </button>\n",
              "      \n",
              "  <style>\n",
              "    .colab-df-container {\n",
              "      display:flex;\n",
              "      flex-wrap:wrap;\n",
              "      gap: 12px;\n",
              "    }\n",
              "\n",
              "    .colab-df-convert {\n",
              "      background-color: #E8F0FE;\n",
              "      border: none;\n",
              "      border-radius: 50%;\n",
              "      cursor: pointer;\n",
              "      display: none;\n",
              "      fill: #1967D2;\n",
              "      height: 32px;\n",
              "      padding: 0 0 0 0;\n",
              "      width: 32px;\n",
              "    }\n",
              "\n",
              "    .colab-df-convert:hover {\n",
              "      background-color: #E2EBFA;\n",
              "      box-shadow: 0px 1px 2px rgba(60, 64, 67, 0.3), 0px 1px 3px 1px rgba(60, 64, 67, 0.15);\n",
              "      fill: #174EA6;\n",
              "    }\n",
              "\n",
              "    [theme=dark] .colab-df-convert {\n",
              "      background-color: #3B4455;\n",
              "      fill: #D2E3FC;\n",
              "    }\n",
              "\n",
              "    [theme=dark] .colab-df-convert:hover {\n",
              "      background-color: #434B5C;\n",
              "      box-shadow: 0px 1px 3px 1px rgba(0, 0, 0, 0.15);\n",
              "      filter: drop-shadow(0px 1px 2px rgba(0, 0, 0, 0.3));\n",
              "      fill: #FFFFFF;\n",
              "    }\n",
              "  </style>\n",
              "\n",
              "      <script>\n",
              "        const buttonEl =\n",
              "          document.querySelector('#df-0c523570-d409-47a0-a2a5-e9dc34717dc9 button.colab-df-convert');\n",
              "        buttonEl.style.display =\n",
              "          google.colab.kernel.accessAllowed ? 'block' : 'none';\n",
              "\n",
              "        async function convertToInteractive(key) {\n",
              "          const element = document.querySelector('#df-0c523570-d409-47a0-a2a5-e9dc34717dc9');\n",
              "          const dataTable =\n",
              "            await google.colab.kernel.invokeFunction('convertToInteractive',\n",
              "                                                     [key], {});\n",
              "          if (!dataTable) return;\n",
              "\n",
              "          const docLinkHtml = 'Like what you see? Visit the ' +\n",
              "            '<a target=\"_blank\" href=https://colab.research.google.com/notebooks/data_table.ipynb>data table notebook</a>'\n",
              "            + ' to learn more about interactive tables.';\n",
              "          element.innerHTML = '';\n",
              "          dataTable['output_type'] = 'display_data';\n",
              "          await google.colab.output.renderOutput(dataTable, element);\n",
              "          const docLink = document.createElement('div');\n",
              "          docLink.innerHTML = docLinkHtml;\n",
              "          element.appendChild(docLink);\n",
              "        }\n",
              "      </script>\n",
              "    </div>\n",
              "  </div>\n",
              "  "
            ]
          },
          "metadata": {},
          "execution_count": 3
        }
      ]
    },
    {
      "cell_type": "code",
      "metadata": {
        "id": "VRNfx0SAv7WI",
        "colab": {
          "base_uri": "https://localhost:8080/"
        },
        "outputId": "4af1c0d4-283a-4c13-9542-b4a854dfcd15"
      },
      "source": [
        "X = df['Nombre'] \n",
        "y = df['etiqueta']\n",
        "X.head(10)\n"
      ],
      "execution_count": null,
      "outputs": [
        {
          "output_type": "execute_result",
          "data": {
            "text/plain": [
              "0                                 Eric Montoya\n",
              "1                             Francisca Magaña\n",
              "2                                 Javier Cabán\n",
              "3                           Luz Ilse Arce Alba\n",
              "4              Cristian Isabela Molina Estévez\n",
              "5                     Claudia Mercedes Mayorga\n",
              "6                 Nelly Mateo Castro Benavides\n",
              "7                                Sessa Medrano\n",
              "8    Gabriel María Cristina Ballesteros Rascón\n",
              "9                          Patricio de la Crúz\n",
              "Name: Nombre, dtype: object"
            ]
          },
          "metadata": {},
          "execution_count": 4
        }
      ]
    },
    {
      "cell_type": "code",
      "metadata": {
        "id": "rnYrRC0zv7WI"
      },
      "source": [
        "stop_words = set(stopwords.words(\"spanish\"))\n",
        "\n",
        "def normalize_text(text_str):\n",
        "        unaccented = unidecode.unidecode(text_str)\n",
        "        unaccented = unaccented.replace(\"\\n\", \",\")\n",
        "        text_token = word_tokenize(unaccented)\n",
        "        filtered_sentence = \" \".join([w for w in text_token if not w.lower() in stop_words])\n",
        "        # Remove Stop Words\n",
        "        text_upper = filtered_sentence.upper().replace(\".\", \"\")\n",
        "        return text_upper\n",
        "\n",
        "for i,X_i in enumerate(X):\n",
        "    unaccented = unidecode.unidecode(str(X_i))\n",
        "    X[i] = normalize_text(unaccented)\n",
        "    #print(X[i], len(X[i]))\n"
      ],
      "execution_count": null,
      "outputs": []
    },
    {
      "cell_type": "code",
      "metadata": {
        "id": "4L6XRh8Bv7WJ"
      },
      "source": [
        "X_train, X_test, y_train, y_test = train_test_split(X, y, test_size=0.33, random_state=42)"
      ],
      "execution_count": null,
      "outputs": []
    },
    {
      "cell_type": "markdown",
      "metadata": {
        "id": "Sos2Kiuzv7Wd"
      },
      "source": [
        "# Train using a SCV and GridSearch"
      ]
    },
    {
      "cell_type": "code",
      "metadata": {
        "id": "uxZf30A4v7We"
      },
      "source": [
        "from sklearn.model_selection import GridSearchCV\n",
        "from sklearn.svm import SVC\n",
        "from sklearn.pipeline import Pipeline\n",
        "from sklearn.feature_extraction.text import TfidfVectorizer"
      ],
      "execution_count": null,
      "outputs": []
    },
    {
      "cell_type": "code",
      "metadata": {
        "id": "HXku0ktqv7We",
        "colab": {
          "base_uri": "https://localhost:8080/"
        },
        "outputId": "770047a0-5f21-467d-a377-7b5b76241146"
      },
      "source": [
        "# Train a SVM classification model\n",
        "print(\"Fitting the classifier to the training set\")\n",
        "param_grid = {'C': [5e3, 1e4, 1e5], 'gamma': [0.01, 0.1],}\n",
        "\n",
        "clf = GridSearchCV(SVC(kernel='rbf', class_weight='balanced',probability=True), param_grid)\n",
        "\n",
        "text_clf_SVM = Pipeline([('tfidf', TfidfVectorizer()), ('clf', clf),])\n",
        "# Feed the training data through the pipeline\n",
        "text_clf_SVM.fit(X_train, y_train)  \n"
      ],
      "execution_count": null,
      "outputs": [
        {
          "output_type": "stream",
          "name": "stdout",
          "text": [
            "Fitting the classifier to the training set\n"
          ]
        },
        {
          "output_type": "execute_result",
          "data": {
            "text/plain": [
              "Pipeline(steps=[('tfidf', TfidfVectorizer()),\n",
              "                ('clf',\n",
              "                 GridSearchCV(estimator=SVC(class_weight='balanced',\n",
              "                                            probability=True),\n",
              "                              param_grid={'C': [5000.0, 10000.0, 100000.0],\n",
              "                                          'gamma': [0.01, 0.1]}))])"
            ]
          },
          "metadata": {},
          "execution_count": 8
        }
      ]
    },
    {
      "cell_type": "markdown",
      "metadata": {
        "id": "2fssSou-v7We"
      },
      "source": [
        "## Evaluation"
      ]
    },
    {
      "cell_type": "code",
      "metadata": {
        "id": "ykvOCkORv7Wf",
        "colab": {
          "base_uri": "https://localhost:8080/"
        },
        "outputId": "ba942554-1ad4-440b-9754-60367fb32bd5"
      },
      "source": [
        "# Form a prediction set\n",
        "predictions = text_clf_SVM.predict(X_test)\n",
        "\n",
        "# Report the confusion matrix\n",
        "from sklearn import metrics\n",
        "print(metrics.confusion_matrix(y_test,predictions))"
      ],
      "execution_count": null,
      "outputs": [
        {
          "output_type": "stream",
          "name": "stdout",
          "text": [
            "[[366   1]\n",
            " [  2 470]]\n"
          ]
        }
      ]
    },
    {
      "cell_type": "code",
      "metadata": {
        "id": "BLs8Hlslv7Wh",
        "colab": {
          "base_uri": "https://localhost:8080/"
        },
        "outputId": "b8db1f65-ed65-4666-d9c9-c05773aacaa3"
      },
      "source": [
        "desc_auto = 'Juan Aurelio Ortiz Morales'\n",
        "res = text_clf_SVM.predict_proba([desc_auto])\n",
        "print(res)\n",
        "print(round(res[0][0], 5), round(res[0][1], 5))"
      ],
      "execution_count": null,
      "outputs": [
        {
          "output_type": "stream",
          "name": "stdout",
          "text": [
            "[[9.9999990e-01 1.0000001e-07]]\n",
            "1.0 0.0\n"
          ]
        }
      ]
    },
    {
      "cell_type": "code",
      "metadata": {
        "id": "zhVCwUS9v7Wi",
        "colab": {
          "base_uri": "https://localhost:8080/"
        },
        "outputId": "2362c81b-d329-419b-b2b5-f86766a7c643"
      },
      "source": [
        "desc_auto_2 = 'AUDI A3 SEDAN AMBIENTE'\n",
        "res2 = text_clf_SVM.predict_proba([desc_auto_2])\n",
        "print(res2)\n",
        "print(round(res2[0][0], 5), round(res2[0][1], 5))"
      ],
      "execution_count": null,
      "outputs": [
        {
          "output_type": "stream",
          "name": "stdout",
          "text": [
            "[[3.15161064e-10 1.00000000e+00]]\n",
            "0.0 1.0\n"
          ]
        }
      ]
    },
    {
      "cell_type": "markdown",
      "metadata": {
        "id": "I-YRE0C-v7Wj"
      },
      "source": [
        "## Save model"
      ]
    },
    {
      "cell_type": "code",
      "metadata": {
        "id": "QA1rXdl0v7Wj"
      },
      "source": [
        "import pickle\n",
        "\n",
        "with open('name_classifier.pickle', 'wb') as f:\n",
        "    pickle.dump(text_clf_SVM, f)"
      ],
      "execution_count": null,
      "outputs": []
    },
    {
      "cell_type": "code",
      "metadata": {
        "id": "DS695AfLv7Wk"
      },
      "source": [
        "with open('name_classifier.pickle', \"rb\") as f:\n",
        "    clf = pickle.load(f)"
      ],
      "execution_count": null,
      "outputs": []
    },
    {
      "cell_type": "code",
      "metadata": {
        "id": "p9kJNSHIv7Wl",
        "colab": {
          "base_uri": "https://localhost:8080/"
        },
        "outputId": "7b3055f4-caa0-44fe-c845-f014361054e8"
      },
      "source": [
        "name= \"Venustiano Carranza SN\"\n",
        "# name= \"Financiamiento por pago fraccionado\"\n",
        "text_line = [normalize_text(name.upper())]\n",
        "prediction = clf.predict_proba(text_line)\n",
        "if prediction[0][0]>0.9:\n",
        "  print(name, round(prediction[0][0], 5))\n",
        "\n",
        "print(name, round(prediction[0][1], 5))"
      ],
      "execution_count": null,
      "outputs": [
        {
          "output_type": "stream",
          "name": "stdout",
          "text": [
            "Venustiano Carranza SN 0.99361\n",
            "Venustiano Carranza SN 0.00639\n"
          ]
        }
      ]
    },
    {
      "cell_type": "code",
      "source": [
        ""
      ],
      "metadata": {
        "id": "YuV8-eH6CfnI"
      },
      "execution_count": null,
      "outputs": []
    }
  ]
}