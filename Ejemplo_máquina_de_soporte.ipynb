{
  "nbformat": 4,
  "nbformat_minor": 0,
  "metadata": {
    "colab": {
      "name": "Ejemplo máquina de soporte",
      "provenance": [],
      "include_colab_link": true
    },
    "kernelspec": {
      "name": "python3",
      "display_name": "Python 3"
    },
    "language_info": {
      "name": "python"
    }
  },
  "cells": [
    {
      "cell_type": "markdown",
      "metadata": {
        "id": "view-in-github",
        "colab_type": "text"
      },
      "source": [
        "<a href=\"https://colab.research.google.com/github/MercadoMR/AITraining/blob/main/Ejemplo_m%C3%A1quina_de_soporte.ipynb\" target=\"_parent\"><img src=\"https://colab.research.google.com/assets/colab-badge.svg\" alt=\"Open In Colab\"/></a>"
      ]
    },
    {
      "cell_type": "code",
      "source": [
        "import numpy as np \n",
        "import matplotlib.pyplot as plt"
      ],
      "metadata": {
        "id": "dFXksUaBKBRf"
      },
      "execution_count": null,
      "outputs": []
    },
    {
      "cell_type": "code",
      "execution_count": null,
      "metadata": {
        "colab": {
          "base_uri": "https://localhost:8080/",
          "height": 296
        },
        "id": "H_1zJqD_J7aU",
        "outputId": "119e9489-aeda-485d-d339-b7aeca889ae7"
      },
      "outputs": [
        {
          "output_type": "execute_result",
          "data": {
            "text/plain": [
              "Text(0, 0.5, 'Viento')"
            ]
          },
          "metadata": {},
          "execution_count": 6
        },
        {
          "output_type": "display_data",
          "data": {
            "text/plain": [
              "<Figure size 432x288 with 1 Axes>"
            ],
            "image/png": "[encoded data removed]"
          },
          "metadata": {
            "needs_background": "light"
          }
        }
      ],
      "source": [
        "# Ejercicio Realizar un modelo de clasificación de máquina de soporte\n",
        "# vectorial (3 categorías en 2 dimensiones) para los siguientes datos y ejemplos\n",
        "# que representan si un día se clasifica como tormentoso, nublado o soleado\n",
        "# dependiendo de su parámetros de Humedad y Viento medidos del 1 al 10\n",
        "\n",
        "# Las salidas deseadas están dadas por:\n",
        "# 0 = Tormenta\n",
        "# 1 = Día nublado\n",
        "# 2 = Día Soleado\n",
        "\n",
        "Caract = np.array([[1, 2], [3, 2], [4, 4], [3, 5], [2, 4], [8, 9], [9, 7], [7, 7], [9, 8], [7, 8], [5, 5], [5.5, 6], [5, 7], [6, 4], [6, 8]])\n",
        "Clima = [0, 0, 0, 0, 0, 1, 1, 1, 1, 1, 2, 2, 2, 2, 2]\n",
        "\n",
        "# Mostramos gráficamente la ubicación de las frutas:\n",
        "plt.scatter(Caract[:, 0], Caract[:, 1], edgecolor='k', c=Clima)\n",
        "plt.xlabel(\"Humedad\")\n",
        "plt.ylabel(\"Viento\")"
      ]
    },
    {
      "cell_type": "code",
      "source": [
        "# Uso de la máquina de soporte vectorial:\n",
        "from sklearn import svm\n",
        "\n",
        "svm_clasif = svm.SVC(kernel='linear', C=1)\n",
        "svm_clasif.fit(Caract, Clima)\n",
        "\n",
        "print(\"Acc entrenamiento: {:.3f} %\".format(svm_clasif.score(Caract, Clima)*100))"
      ],
      "metadata": {
        "colab": {
          "base_uri": "https://localhost:8080/"
        },
        "id": "uwqmlQv-KC_0",
        "outputId": "6056bf01-bef9-40e6-8777-099e17129c13"
      },
      "execution_count": null,
      "outputs": [
        {
          "output_type": "stream",
          "name": "stdout",
          "text": [
            "Acc entrenamiento: 100.000 %\n"
          ]
        }
      ]
    },
    {
      "cell_type": "code",
      "source": [
        "# Graficamos de nuevo con los parámetros obtenidos del clasificador\n",
        "\n",
        "# Generamos una reja de graficado\n",
        "x_min, x_max = Caract[:, 0].min() - 1, Caract[:, 0].max() + 1\n",
        "y_min, y_max = Caract[:, 1].min() - 1, Caract[:, 1].max() + 1\n",
        "h = .02  # Paso de la gráfica \n",
        "xx, yy = np.meshgrid(np.arange(x_min, x_max, h),\n",
        "                     np.arange(y_min, y_max, h))\n",
        "\n",
        "# Ploteamos las fornteras de decisión\n",
        "# Ravel regresa un arreglo continuo suavizado de valores\n",
        "Z = svm_clasif.predict(np.c_[xx.ravel(), yy.ravel()])\n",
        "\n",
        "# Agregamos colores a la gráfica\n",
        "Z = Z.reshape(xx.shape)\n",
        "plt.contourf(xx, yy, Z, cmap=plt.cm.coolwarm, alpha=0.8)\n",
        "\n",
        "# Graficamos los ejemplos originales\n",
        "plt.scatter(Caract[:, 0], Caract[:, 1], edgecolor='k', c=Clima)\n",
        "plt.xlabel(\"Redondez\")\n",
        "plt.xlabel(\"Color\")"
      ],
      "metadata": {
        "colab": {
          "base_uri": "https://localhost:8080/",
          "height": 296
        },
        "id": "uMndA8YfMVBO",
        "outputId": "fb610bf7-7ea4-4c29-ea4d-b371a1b8c701"
      },
      "execution_count": null,
      "outputs": [
        {
          "output_type": "execute_result",
          "data": {
            "text/plain": [
              "Text(0.5, 0, 'Color')"
            ]
          },
          "metadata": {},
          "execution_count": 8
        },
        {
          "output_type": "display_data",
          "data": {
            "text/plain": [
              "<Figure size 432x288 with 1 Axes>"
            ],
            "image/png": "[encoded data removed]"
          },
          "metadata": {
            "needs_background": "light"
          }
        }
      ]
    },
    {
      "cell_type": "code",
      "source": [
        "# Podemos realizar una nueva predicción de valores que antes no estaban en el entrenamiento\n",
        "# y predicir si se tratará de una nubleado, soleado o tormenta:\n",
        "Humedad = 5\n",
        "Viento = 6\n",
        "Clase = svm_clasif.predict(np.array([[Humedad, Viento]]))\n",
        "\n",
        "print(Clase)\n",
        "\n",
        "if Clase == 0:\n",
        "  print(\"La clase es Tormenta\")\n",
        "elif Clase == 1:\n",
        "  print(\"La clase es Nubleado\")\n",
        "else:\n",
        "  print(\"La clase es Soleado\")\n",
        "\n",
        "# Ploteamos el nuevo ejemplo\n",
        "\n",
        "plt.contourf(xx, yy, Z, cmap=plt.cm.coolwarm, alpha=0.8)\n",
        "\n",
        "# Graficamos los ejemplos originales\n",
        "plt.scatter(Caract[:, 0], Caract[:, 1], edgecolor='k', c=Clima)\n",
        "plt.xlabel(\"Humedad\")\n",
        "plt.ylabel(\"Viento\")\n",
        "\n",
        "plt.scatter(Humedad, Viento, edgecolor='k')"
      ],
      "metadata": {
        "colab": {
          "base_uri": "https://localhost:8080/",
          "height": 331
        },
        "id": "3_t7ANJhMoyV",
        "outputId": "99ad370c-310b-4c2c-8e86-fb17c37fa8aa"
      },
      "execution_count": null,
      "outputs": [
        {
          "output_type": "stream",
          "name": "stdout",
          "text": [
            "[2]\n",
            "La clase es Soleado\n"
          ]
        },
        {
          "output_type": "execute_result",
          "data": {
            "text/plain": [
              "<matplotlib.collections.PathCollection at 0x7f3ca39bc1d0>"
            ]
          },
          "metadata": {},
          "execution_count": 13
        },
        {
          "output_type": "display_data",
          "data": {
            "text/plain": [
              "<Figure size 432x288 with 1 Axes>"
            ],
            "image/png": "[encoded data removed]"
          },
          "metadata": {
            "needs_background": "light"
          }
        }
      ]
    },
    {
      "cell_type": "code",
      "source": [
        ""
      ],
      "metadata": {
        "id": "-oj0iFVLOeN0"
      },
      "execution_count": null,
      "outputs": []
    }
  ]
}