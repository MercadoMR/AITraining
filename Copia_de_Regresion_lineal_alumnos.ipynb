{
  "nbformat": 4,
  "nbformat_minor": 0,
  "metadata": {
    "colab": {
      "name": "Copia de Regresion_lineal_alumnos.ipynb",
      "provenance": [],
      "include_colab_link": true
    },
    "kernelspec": {
      "name": "python3",
      "display_name": "Python 3"
    },
    "language_info": {
      "name": "python"
    }
  },
  "cells": [
    {
      "cell_type": "markdown",
      "metadata": {
        "id": "view-in-github",
        "colab_type": "text"
      },
      "source": [
        "<a href=\"https://colab.research.google.com/github/MercadoMR/AITraining/blob/main/Copia_de_Regresion_lineal_alumnos.ipynb\" target=\"_parent\"><img src=\"https://colab.research.google.com/assets/colab-badge.svg\" alt=\"Open In Colab\"/></a>"
      ]
    },
    {
      "cell_type": "code",
      "metadata": {
        "id": "_q00F7hnnyg1",
        "colab": {
          "base_uri": "https://localhost:8080/",
          "height": 333
        },
        "outputId": "16d711eb-287f-44bd-827a-8f78a4f2c7ee"
      },
      "source": [
        "##### Declaración de librerías (Herramientas para usar en Python) #####\n",
        "#Librería numérica, mara manejar arreglos numéricos\n",
        "import numpy as np\n",
        "# Para crear gráficos con matplotlib\n",
        "import matplotlib.pyplot as plt\n",
        "# Si quieres hacer estos gráficos dentro de un jupyter notebook\n",
        "%matplotlib inline\n",
        "#Regresión Lineal con scikit-learn\n",
        "from sklearn.linear_model import LinearRegression\n",
        "\n",
        "##### FUNCIÓN #####\n",
        "def f(x):  # Función f(x) = 0.1*x + 1.25 + 0.2*Ruido_Gaussiano\n",
        "    np.random.seed(42) # para poder reproducirlo (Semilla)\n",
        "    y = 0.1*x + 1.25 + 0.2*np.random.randn(x.shape[0]) # Función\n",
        "    print(x)\n",
        "    return y\n",
        "\n",
        "##### OBTENCIÓN DE DATOS #####\n",
        "x = np.arange(0, 20, 0.5) # Generamos valores x de 0 a 20 en intervalos de 0.5\n",
        "y = f(x) # Calculamos y a partir de la función que hemos generado\n",
        "# Hacemos un gráfico de los datos que hemos generado\n",
        "plt.scatter(x, y, label='data', color='blue')\n",
        "plt.title('Datos');"
      ],
      "execution_count": null,
      "outputs": [
        {
          "output_type": "stream",
          "name": "stdout",
          "text": [
            "[ 0.   0.5  1.   1.5  2.   2.5  3.   3.5  4.   4.5  5.   5.5  6.   6.5\n",
            "  7.   7.5  8.   8.5  9.   9.5 10.  10.5 11.  11.5 12.  12.5 13.  13.5\n",
            " 14.  14.5 15.  15.5 16.  16.5 17.  17.5 18.  18.5 19.  19.5]\n"
          ]
        },
        {
          "output_type": "display_data",
          "data": {
            "image/png": "[encoded data removed]",
            "text/plain": [
              "<Figure size 432x288 with 1 Axes>"
            ]
          },
          "metadata": {
            "needs_background": "light"
          }
        }
      ]
    },
    {
      "cell_type": "code",
      "source": [
        "print(x)\n",
        "x.reshape(-1,1)"
      ],
      "metadata": {
        "colab": {
          "base_uri": "https://localhost:8080/"
        },
        "id": "Vb_zQWpVQgVY",
        "outputId": "11101fd0-1dc2-4c9b-fa52-28914a3fa9db"
      },
      "execution_count": null,
      "outputs": [
        {
          "output_type": "stream",
          "name": "stdout",
          "text": [
            "[ 0.   0.5  1.   1.5  2.   2.5  3.   3.5  4.   4.5  5.   5.5  6.   6.5\n",
            "  7.   7.5  8.   8.5  9.   9.5 10.  10.5 11.  11.5 12.  12.5 13.  13.5\n",
            " 14.  14.5 15.  15.5 16.  16.5 17.  17.5 18.  18.5 19.  19.5]\n"
          ]
        },
        {
          "output_type": "execute_result",
          "data": {
            "text/plain": [
              "array([[ 0. ],\n",
              "       [ 0.5],\n",
              "       [ 1. ],\n",
              "       [ 1.5],\n",
              "       [ 2. ],\n",
              "       [ 2.5],\n",
              "       [ 3. ],\n",
              "       [ 3.5],\n",
              "       [ 4. ],\n",
              "       [ 4.5],\n",
              "       [ 5. ],\n",
              "       [ 5.5],\n",
              "       [ 6. ],\n",
              "       [ 6.5],\n",
              "       [ 7. ],\n",
              "       [ 7.5],\n",
              "       [ 8. ],\n",
              "       [ 8.5],\n",
              "       [ 9. ],\n",
              "       [ 9.5],\n",
              "       [10. ],\n",
              "       [10.5],\n",
              "       [11. ],\n",
              "       [11.5],\n",
              "       [12. ],\n",
              "       [12.5],\n",
              "       [13. ],\n",
              "       [13.5],\n",
              "       [14. ],\n",
              "       [14.5],\n",
              "       [15. ],\n",
              "       [15.5],\n",
              "       [16. ],\n",
              "       [16.5],\n",
              "       [17. ],\n",
              "       [17.5],\n",
              "       [18. ],\n",
              "       [18.5],\n",
              "       [19. ],\n",
              "       [19.5]])"
            ]
          },
          "metadata": {},
          "execution_count": 3
        }
      ]
    },
    {
      "cell_type": "code",
      "metadata": {
        "id": "gdwoIL04tW1f",
        "colab": {
          "base_uri": "https://localhost:8080/"
        },
        "outputId": "3b93158b-5a8c-4cdb-972b-b9ea85257bd8"
      },
      "source": [
        "##### REGRESIÓN LINEAL CON SKLEARN #####\n",
        "\n",
        "# Creamos una instancia de LinearRegression\n",
        "regresion_lineal = LinearRegression() \n",
        "# Instruimos a la regresión lineal que aprenda de los datos (x,y)\n",
        "regresion_lineal.fit(x.reshape(-1,1), y) \n",
        "# Vemos los parámetros que ha estimado la regresión lineal\n",
        "print('Pendiente = ' + str(regresion_lineal.coef_) + ', Offset = ' + str(regresion_lineal.intercept_))"
      ],
      "execution_count": null,
      "outputs": [
        {
          "output_type": "stream",
          "name": "stdout",
          "text": [
            "Pendiente = [0.09183522], Offset = 1.2858792525736682\n"
          ]
        }
      ]
    },
    {
      "cell_type": "code",
      "metadata": {
        "id": "ta6vyhUeutH5",
        "colab": {
          "base_uri": "https://localhost:8080/",
          "height": 281
        },
        "outputId": "835474c7-bf97-4d87-a6ec-08d04d50b4ab"
      },
      "source": [
        "# Verificamos los parámetros de la regresión lineal con un gráfico\n",
        "pendiente = regresion_lineal.coef_ # Pendiente\n",
        "offset = regresion_lineal.intercept_ # Offset u ordenada al origen\n",
        "\n",
        "plt.scatter(x, y, label='data', color='blue') # Ploteo de los datos (Puntos)\n",
        "plt.plot(x, pendiente*x + offset, linestyle='--') # Ploteo de la regresión lineal obtenida\n",
        "plt.title('Datos');"
      ],
      "execution_count": null,
      "outputs": [
        {
          "output_type": "display_data",
          "data": {
            "image/png": "[encoded data removed]",
            "text/plain": [
              "<Figure size 432x288 with 1 Axes>"
            ]
          },
          "metadata": {
            "needs_background": "light"
          }
        }
      ]
    },
    {
      "cell_type": "code",
      "metadata": {
        "id": "kwX_yqPmwpxZ",
        "colab": {
          "base_uri": "https://localhost:8080/"
        },
        "outputId": "ede8569c-12e6-439a-fa11-3152c46eb934"
      },
      "source": [
        "##### PREDICCIÓN DE NUEVOS DATOS #####\n",
        "# Podemos predecir nuevos valores que caen sobre nuestro modelo\n",
        "# Tenemos que mandar nuestro dato a predecir como si fuera un arreglo ya que \n",
        "# así \"entrenamos a nuestro modelo\"\n",
        "nuevo_x = np.array([30]) \n",
        "prediccion = regresion_lineal.predict(nuevo_x.reshape(-1,1))\n",
        "print(prediccion)"
      ],
      "execution_count": null,
      "outputs": [
        {
          "output_type": "stream",
          "name": "stdout",
          "text": [
            "[4.04093581]\n"
          ]
        }
      ]
    },
    {
      "cell_type": "markdown",
      "metadata": {
        "id": "iJCvGNK6xtZg"
      },
      "source": [
        "## Ejercicio"
      ]
    },
    {
      "cell_type": "code",
      "metadata": {
        "id": "4gmdpqKHxs1v"
      },
      "source": [
        "# La siguiente conjunto de datos, representa el valor del indicador SP500 en\n",
        "# pesos mexicanos durante el año 2020.\n",
        "\n",
        "# Predecir, el precio que tendría dicha acción para el final del año \n",
        "# 2021 (Diciembre) basándose en la siguiente información, y siguiendo los pasos\n",
        "# que se enlistan a continuación:\n",
        "\n",
        "SP500 = [5589, 5649, 5323, 5579, 6269, 6142, 6450, 6865, 6896, 6657, 6631, 6720]"
      ],
      "execution_count": null,
      "outputs": []
    },
    {
      "cell_type": "code",
      "metadata": {
        "id": "pqRYF4w3yzlt",
        "colab": {
          "base_uri": "https://localhost:8080/",
          "height": 281
        },
        "outputId": "447b9031-b767-44ac-cd8d-3e89e10c0838"
      },
      "source": [
        "# 1) Mostrar en un gráfico los valores del arreglo anterior\n",
        "# Hacemos un gráfico de los datos que hemos generado\n",
        "x = np.arange(0,12)\n",
        "plt.scatter(x,SP500, label='data', color='blue')\n",
        "plt.title('Valor');"
      ],
      "execution_count": null,
      "outputs": [
        {
          "output_type": "display_data",
          "data": {
            "image/png": "[encoded data removed]",
            "text/plain": [
              "<Figure size 432x288 with 1 Axes>"
            ]
          },
          "metadata": {
            "needs_background": "light"
          }
        }
      ]
    },
    {
      "cell_type": "code",
      "metadata": {
        "id": "Yqb9Hnq01PQW",
        "colab": {
          "base_uri": "https://localhost:8080/"
        },
        "outputId": "f81b19f3-d16b-4fdd-90eb-aae5e6705336"
      },
      "source": [
        "# 2) Obtener e imprimir en pantalla los valroes de la pendiente y el offset de\n",
        "# la regresión lineal correspondiente:\n",
        "\n",
        "# Creamos una instancia de LinearRegression\n",
        "regresion_lineal = LinearRegression() \n",
        "# Instruimos a la regresión lineal que aprenda de los datos (x,y)\n",
        "regresion_lineal.fit(x.reshape(-1,1), SP500)\n",
        "\n",
        "pendiente = regresion_lineal.coef_\n",
        "print(\"Pendiente: \", pendiente)\n",
        "offset = regresion_lineal.intercept_\n",
        "print(\"Offset: \", offset)"
      ],
      "execution_count": null,
      "outputs": [
        {
          "output_type": "stream",
          "name": "stdout",
          "text": [
            "Pendiente:  [137.40559441]\n",
            "Offset:  5475.102564102564\n"
          ]
        }
      ]
    },
    {
      "cell_type": "code",
      "metadata": {
        "id": "ipjEBkVj2e9Y",
        "colab": {
          "base_uri": "https://localhost:8080/",
          "height": 281
        },
        "outputId": "66d19fca-ed77-4dbf-f7f1-b284f85edb28"
      },
      "source": [
        "# 3) Mostramos el gráfico de los valores del indicador junto con el valor\n",
        "# de la regresión lineal (A 24 meses)\n",
        "\n",
        "x2 = np.arange(0, 24)\n",
        "\n",
        "plt.scatter(x,SP500, label='data', color='blue') # Ploteo de los datos (Puntos)\n",
        "plt.plot(x2, pendiente*x2 + offset, linestyle='--') # Ploteo de la regresión lineal obtenida\n",
        "plt.title('SP500 mensual');"
      ],
      "execution_count": null,
      "outputs": [
        {
          "output_type": "display_data",
          "data": {
            "image/png": "[encoded data removed]",
            "text/plain": [
              "<Figure size 432x288 with 1 Axes>"
            ]
          },
          "metadata": {
            "needs_background": "light"
          }
        }
      ]
    },
    {
      "cell_type": "code",
      "metadata": {
        "id": "OqWXeM8K3NiA",
        "colab": {
          "base_uri": "https://localhost:8080/"
        },
        "outputId": "af451a82-bb2b-4549-d548-9e1ff0867415"
      },
      "source": [
        "# 4) Predecir el valor que tendrá esta acción para Noviembre del 2021 (Esto es\n",
        "# el mes #23 de manera secuencial)\n",
        "\n",
        "nuevo_x = np.array([23]) \n",
        "valor_nuevo = regresion_lineal.predict(nuevo_x.reshape(-1,1))\n",
        "print(\"Valor de predicción: $\",valor_nuevo, \"MXN\")"
      ],
      "execution_count": null,
      "outputs": [
        {
          "output_type": "stream",
          "name": "stdout",
          "text": [
            "Valor de predicción: $ [8635.43123543] MXN\n"
          ]
        }
      ]
    },
    {
      "cell_type": "markdown",
      "metadata": {
        "id": "j0GI-p564AO_"
      },
      "source": [
        "## Regresión NO Lineal"
      ]
    },
    {
      "cell_type": "code",
      "metadata": {
        "id": "2CYyT1Sx4EL5"
      },
      "source": [
        "##### IMPORTACIÓN DE LIBRERÍAS #####\n",
        "import numpy as np\n",
        "import matplotlib.pyplot as plt\n",
        "import pandas as pd\n",
        "from sklearn import datasets"
      ],
      "execution_count": null,
      "outputs": []
    },
    {
      "cell_type": "code",
      "metadata": {
        "id": "ivuXBnB94dkv",
        "colab": {
          "base_uri": "https://localhost:8080/"
        },
        "outputId": "4993978f-a06b-4398-becf-51ecace7a9d9"
      },
      "source": [
        "#Importamos los datos de la misma librería de scikit-learn \n",
        "# (Contiene los valores de costo de alojamiento en Boston en los últimos meses)\n",
        "boston = datasets.load_boston()"
      ],
      "execution_count": null,
      "outputs": [
        {
          "output_type": "stream",
          "name": "stderr",
          "text": [
            "/usr/local/lib/python3.7/dist-packages/sklearn/utils/deprecation.py:87: FutureWarning: Function load_boston is deprecated; `load_boston` is deprecated in 1.0 and will be removed in 1.2.\n",
            "\n",
            "    The Boston housing prices dataset has an ethical problem. You can refer to\n",
            "    the documentation of this function for further details.\n",
            "\n",
            "    The scikit-learn maintainers therefore strongly discourage the use of this\n",
            "    dataset unless the purpose of the code is to study and educate about\n",
            "    ethical issues in data science and machine learning.\n",
            "\n",
            "    In this special case, you can fetch the dataset from the original\n",
            "    source::\n",
            "\n",
            "        import pandas as pd\n",
            "        import numpy as np\n",
            "\n",
            "\n",
            "        data_url = \"http://lib.stat.cmu.edu/datasets/boston\"\n",
            "        raw_df = pd.read_csv(data_url, sep=\"\\s+\", skiprows=22, header=None)\n",
            "        data = np.hstack([raw_df.values[::2, :], raw_df.values[1::2, :2]])\n",
            "        target = raw_df.values[1::2, 2]\n",
            "\n",
            "    Alternative datasets include the California housing dataset (i.e.\n",
            "    :func:`~sklearn.datasets.fetch_california_housing`) and the Ames housing\n",
            "    dataset. You can load the datasets as follows::\n",
            "\n",
            "        from sklearn.datasets import fetch_california_housing\n",
            "        housing = fetch_california_housing()\n",
            "\n",
            "    for the California housing dataset and::\n",
            "\n",
            "        from sklearn.datasets import fetch_openml\n",
            "        housing = fetch_openml(name=\"house_prices\", as_frame=True)\n",
            "\n",
            "    for the Ames housing dataset.\n",
            "    \n",
            "  warnings.warn(msg, category=FutureWarning)\n"
          ]
        }
      ]
    },
    {
      "cell_type": "code",
      "metadata": {
        "id": "_L7ejWFo4550",
        "colab": {
          "base_uri": "https://localhost:8080/"
        },
        "outputId": "4abb3f4b-84f0-4287-ed7e-00a498c968f6"
      },
      "source": [
        "#Seleccionamos solamente la columna 6 del dataset\n",
        "Y_p = boston.target\n",
        "print(Y_p)"
      ],
      "execution_count": null,
      "outputs": [
        {
          "output_type": "stream",
          "name": "stdout",
          "text": [
            "[24.  21.6 34.7 33.4 36.2 28.7 22.9 27.1 16.5 18.9 15.  18.9 21.7 20.4\n",
            " 18.2 19.9 23.1 17.5 20.2 18.2 13.6 19.6 15.2 14.5 15.6 13.9 16.6 14.8\n",
            " 18.4 21.  12.7 14.5 13.2 13.1 13.5 18.9 20.  21.  24.7 30.8 34.9 26.6\n",
            " 25.3 24.7 21.2 19.3 20.  16.6 14.4 19.4 19.7 20.5 25.  23.4 18.9 35.4\n",
            " 24.7 31.6 23.3 19.6 18.7 16.  22.2 25.  33.  23.5 19.4 22.  17.4 20.9\n",
            " 24.2 21.7 22.8 23.4 24.1 21.4 20.  20.8 21.2 20.3 28.  23.9 24.8 22.9\n",
            " 23.9 26.6 22.5 22.2 23.6 28.7 22.6 22.  22.9 25.  20.6 28.4 21.4 38.7\n",
            " 43.8 33.2 27.5 26.5 18.6 19.3 20.1 19.5 19.5 20.4 19.8 19.4 21.7 22.8\n",
            " 18.8 18.7 18.5 18.3 21.2 19.2 20.4 19.3 22.  20.3 20.5 17.3 18.8 21.4\n",
            " 15.7 16.2 18.  14.3 19.2 19.6 23.  18.4 15.6 18.1 17.4 17.1 13.3 17.8\n",
            " 14.  14.4 13.4 15.6 11.8 13.8 15.6 14.6 17.8 15.4 21.5 19.6 15.3 19.4\n",
            " 17.  15.6 13.1 41.3 24.3 23.3 27.  50.  50.  50.  22.7 25.  50.  23.8\n",
            " 23.8 22.3 17.4 19.1 23.1 23.6 22.6 29.4 23.2 24.6 29.9 37.2 39.8 36.2\n",
            " 37.9 32.5 26.4 29.6 50.  32.  29.8 34.9 37.  30.5 36.4 31.1 29.1 50.\n",
            " 33.3 30.3 34.6 34.9 32.9 24.1 42.3 48.5 50.  22.6 24.4 22.5 24.4 20.\n",
            " 21.7 19.3 22.4 28.1 23.7 25.  23.3 28.7 21.5 23.  26.7 21.7 27.5 30.1\n",
            " 44.8 50.  37.6 31.6 46.7 31.5 24.3 31.7 41.7 48.3 29.  24.  25.1 31.5\n",
            " 23.7 23.3 22.  20.1 22.2 23.7 17.6 18.5 24.3 20.5 24.5 26.2 24.4 24.8\n",
            " 29.6 42.8 21.9 20.9 44.  50.  36.  30.1 33.8 43.1 48.8 31.  36.5 22.8\n",
            " 30.7 50.  43.5 20.7 21.1 25.2 24.4 35.2 32.4 32.  33.2 33.1 29.1 35.1\n",
            " 45.4 35.4 46.  50.  32.2 22.  20.1 23.2 22.3 24.8 28.5 37.3 27.9 23.9\n",
            " 21.7 28.6 27.1 20.3 22.5 29.  24.8 22.  26.4 33.1 36.1 28.4 33.4 28.2\n",
            " 22.8 20.3 16.1 22.1 19.4 21.6 23.8 16.2 17.8 19.8 23.1 21.  23.8 23.1\n",
            " 20.4 18.5 25.  24.6 23.  22.2 19.3 22.6 19.8 17.1 19.4 22.2 20.7 21.1\n",
            " 19.5 18.5 20.6 19.  18.7 32.7 16.5 23.9 31.2 17.5 17.2 23.1 24.5 26.6\n",
            " 22.9 24.1 18.6 30.1 18.2 20.6 17.8 21.7 22.7 22.6 25.  19.9 20.8 16.8\n",
            " 21.9 27.5 21.9 23.1 50.  50.  50.  50.  50.  13.8 13.8 15.  13.9 13.3\n",
            " 13.1 10.2 10.4 10.9 11.3 12.3  8.8  7.2 10.5  7.4 10.2 11.5 15.1 23.2\n",
            "  9.7 13.8 12.7 13.1 12.5  8.5  5.   6.3  5.6  7.2 12.1  8.3  8.5  5.\n",
            " 11.9 27.9 17.2 27.5 15.  17.2 17.9 16.3  7.   7.2  7.5 10.4  8.8  8.4\n",
            " 16.7 14.2 20.8 13.4 11.7  8.3 10.2 10.9 11.   9.5 14.5 14.1 16.1 14.3\n",
            " 11.7 13.4  9.6  8.7  8.4 12.8 10.5 17.1 18.4 15.4 10.8 11.8 14.9 12.6\n",
            " 14.1 13.  13.4 15.2 16.1 17.8 14.9 14.1 12.7 13.5 14.9 20.  16.4 17.7\n",
            " 19.5 20.2 21.4 19.9 19.  19.1 19.1 20.1 19.9 19.6 23.2 29.8 13.8 13.3\n",
            " 16.7 12.  14.6 21.4 23.  23.7 25.  21.8 20.6 21.2 19.1 20.6 15.2  7.\n",
            "  8.1 13.6 20.1 21.8 24.5 23.1 19.7 18.3 21.2 17.5 16.8 22.4 20.6 23.9\n",
            " 22.  11.9]\n"
          ]
        }
      ]
    },
    {
      "cell_type": "code",
      "metadata": {
        "id": "uTDo_wOY5ISD"
      },
      "source": [
        "# Obtenemos los valores para X_p\n",
        "X_p = np.arange(0, len(Y_p))"
      ],
      "execution_count": null,
      "outputs": []
    },
    {
      "cell_type": "code",
      "source": [
        "X_p"
      ],
      "metadata": {
        "colab": {
          "base_uri": "https://localhost:8080/"
        },
        "id": "VyVN-1lGV_Xw",
        "outputId": "02c6ceed-8824-488d-dafc-f45803b3f31a"
      },
      "execution_count": null,
      "outputs": [
        {
          "output_type": "execute_result",
          "data": {
            "text/plain": [
              "array([  0,   1,   2,   3,   4,   5,   6,   7,   8,   9,  10,  11,  12,\n",
              "        13,  14,  15,  16,  17,  18,  19,  20,  21,  22,  23,  24,  25,\n",
              "        26,  27,  28,  29,  30,  31,  32,  33,  34,  35,  36,  37,  38,\n",
              "        39,  40,  41,  42,  43,  44,  45,  46,  47,  48,  49,  50,  51,\n",
              "        52,  53,  54,  55,  56,  57,  58,  59,  60,  61,  62,  63,  64,\n",
              "        65,  66,  67,  68,  69,  70,  71,  72,  73,  74,  75,  76,  77,\n",
              "        78,  79,  80,  81,  82,  83,  84,  85,  86,  87,  88,  89,  90,\n",
              "        91,  92,  93,  94,  95,  96,  97,  98,  99, 100, 101, 102, 103,\n",
              "       104, 105, 106, 107, 108, 109, 110, 111, 112, 113, 114, 115, 116,\n",
              "       117, 118, 119, 120, 121, 122, 123, 124, 125, 126, 127, 128, 129,\n",
              "       130, 131, 132, 133, 134, 135, 136, 137, 138, 139, 140, 141, 142,\n",
              "       143, 144, 145, 146, 147, 148, 149, 150, 151, 152, 153, 154, 155,\n",
              "       156, 157, 158, 159, 160, 161, 162, 163, 164, 165, 166, 167, 168,\n",
              "       169, 170, 171, 172, 173, 174, 175, 176, 177, 178, 179, 180, 181,\n",
              "       182, 183, 184, 185, 186, 187, 188, 189, 190, 191, 192, 193, 194,\n",
              "       195, 196, 197, 198, 199, 200, 201, 202, 203, 204, 205, 206, 207,\n",
              "       208, 209, 210, 211, 212, 213, 214, 215, 216, 217, 218, 219, 220,\n",
              "       221, 222, 223, 224, 225, 226, 227, 228, 229, 230, 231, 232, 233,\n",
              "       234, 235, 236, 237, 238, 239, 240, 241, 242, 243, 244, 245, 246,\n",
              "       247, 248, 249, 250, 251, 252, 253, 254, 255, 256, 257, 258, 259,\n",
              "       260, 261, 262, 263, 264, 265, 266, 267, 268, 269, 270, 271, 272,\n",
              "       273, 274, 275, 276, 277, 278, 279, 280, 281, 282, 283, 284, 285,\n",
              "       286, 287, 288, 289, 290, 291, 292, 293, 294, 295, 296, 297, 298,\n",
              "       299, 300, 301, 302, 303, 304, 305, 306, 307, 308, 309, 310, 311,\n",
              "       312, 313, 314, 315, 316, 317, 318, 319, 320, 321, 322, 323, 324,\n",
              "       325, 326, 327, 328, 329, 330, 331, 332, 333, 334, 335, 336, 337,\n",
              "       338, 339, 340, 341, 342, 343, 344, 345, 346, 347, 348, 349, 350,\n",
              "       351, 352, 353, 354, 355, 356, 357, 358, 359, 360, 361, 362, 363,\n",
              "       364, 365, 366, 367, 368, 369, 370, 371, 372, 373, 374, 375, 376,\n",
              "       377, 378, 379, 380, 381, 382, 383, 384, 385, 386, 387, 388, 389,\n",
              "       390, 391, 392, 393, 394, 395, 396, 397, 398, 399, 400, 401, 402,\n",
              "       403, 404, 405, 406, 407, 408, 409, 410, 411, 412, 413, 414, 415,\n",
              "       416, 417, 418, 419, 420, 421, 422, 423, 424, 425, 426, 427, 428,\n",
              "       429, 430, 431, 432, 433, 434, 435, 436, 437, 438, 439, 440, 441,\n",
              "       442, 443, 444, 445, 446, 447, 448, 449, 450, 451, 452, 453, 454,\n",
              "       455, 456, 457, 458, 459, 460, 461, 462, 463, 464, 465, 466, 467,\n",
              "       468, 469, 470, 471, 472, 473, 474, 475, 476, 477, 478, 479, 480,\n",
              "       481, 482, 483, 484, 485, 486, 487, 488, 489, 490, 491, 492, 493,\n",
              "       494, 495, 496, 497, 498, 499, 500, 501, 502, 503, 504, 505])"
            ]
          },
          "metadata": {},
          "execution_count": 25
        }
      ]
    },
    {
      "cell_type": "code",
      "metadata": {
        "id": "ZanZIUFK5XXt",
        "colab": {
          "base_uri": "https://localhost:8080/",
          "height": 265
        },
        "outputId": "f0ace2f3-955c-46e0-bf65-6f672964f5d7"
      },
      "source": [
        "#Graficamos los datos correspondientes\n",
        "plt.scatter(X_p, Y_p)\n",
        "plt.show()"
      ],
      "execution_count": null,
      "outputs": [
        {
          "output_type": "display_data",
          "data": {
            "image/png": "[encoded data removed]",
            "text/plain": [
              "<Figure size 432x288 with 1 Axes>"
            ]
          },
          "metadata": {
            "needs_background": "light"
          }
        }
      ]
    },
    {
      "cell_type": "code",
      "metadata": {
        "id": "2l12mF_I6Yvs",
        "colab": {
          "base_uri": "https://localhost:8080/",
          "height": 316
        },
        "outputId": "85c43903-e877-4136-fbd8-636cddfaf05e"
      },
      "source": [
        "##### Prueba con una regresión Lineal #####\n",
        "from sklearn.linear_model import LinearRegression\n",
        "lin_reg = LinearRegression()\n",
        "lin_reg.fit(X_p.reshape(-1,1), Y_p)\n",
        "\n",
        "pendiente = regresion_lineal.coef_\n",
        "print(\"Pendiente: \", pendiente)\n",
        "offset = regresion_lineal.intercept_\n",
        "print(\"Offset: \", offset)\n",
        "\n",
        "plt.scatter(X_p, Y_p, label='data', color='blue') # Ploteo de los datos (Puntos)\n",
        "plt.plot(X_p, pendiente*X_p + offset, linestyle='--') # Ploteo de la regresión lineal obtenida\n",
        "plt.title('Datos');"
      ],
      "execution_count": null,
      "outputs": [
        {
          "output_type": "stream",
          "name": "stdout",
          "text": [
            "Pendiente:  [137.40559441]\n",
            "Offset:  5475.102564102564\n"
          ]
        },
        {
          "output_type": "display_data",
          "data": {
            "image/png": "[encoded data removed]",
            "text/plain": [
              "<Figure size 432x288 with 1 Axes>"
            ]
          },
          "metadata": {
            "needs_background": "light"
          }
        }
      ]
    },
    {
      "cell_type": "code",
      "metadata": {
        "id": "jXJeBJbi7Oq2",
        "colab": {
          "base_uri": "https://localhost:8080/"
        },
        "outputId": "882037d5-f9e4-4ec3-c11b-c8810b17c8bd"
      },
      "source": [
        "# Ajuste polinomial\n",
        "\n",
        "from sklearn.preprocessing import PolynomialFeatures\n",
        "poly_reg =  PolynomialFeatures(degree = 6) #Grado de la regresión polinomial\n",
        "X_poly = poly_reg.fit_transform(X_p.reshape(-1, 1))\n",
        "lin_reg_2 = LinearRegression()\n",
        "lin_reg_2.fit(X_poly, Y_p)"
      ],
      "execution_count": null,
      "outputs": [
        {
          "output_type": "execute_result",
          "data": {
            "text/plain": [
              "LinearRegression()"
            ]
          },
          "metadata": {},
          "execution_count": 42
        }
      ]
    },
    {
      "cell_type": "code",
      "metadata": {
        "id": "eHFX7kvg7ZLK",
        "colab": {
          "base_uri": "https://localhost:8080/",
          "height": 295
        },
        "outputId": "89a6e2cf-df4c-4c7d-ab1f-bd21afb43d2d"
      },
      "source": [
        "# Ploteo de datos contra regresión polinomial\n",
        "plt.scatter(X_p , Y_p, color = 'red')\n",
        "plt.plot(X_p , lin_reg_2.predict( poly_reg.fit_transform(X_p.reshape(-1,1))), color = 'blue')\n",
        "plt.title(\"Polynomial Regression\")\n",
        "plt.xlabel(\"Position level\")\n",
        "plt.ylabel(\"Salary\")\n",
        "plt.show()"
      ],
      "execution_count": null,
      "outputs": [
        {
          "output_type": "display_data",
          "data": {
            "image/png": "[encoded data removed]",
            "text/plain": [
              "<Figure size 432x288 with 1 Axes>"
            ]
          },
          "metadata": {
            "needs_background": "light"
          }
        }
      ]
    },
    {
      "cell_type": "code",
      "metadata": {
        "id": "7ha9b1hs8V8g"
      },
      "source": [
        "# Ejercicio\n",
        "# De los siguientes datos, que representan las ventas diarias en una tienda,\n",
        "# obtener sus respectivos modelos de regresión lineal y polinomial, y realizar\n",
        "# una predicción de cuánto se venderá 2 meses después del último día registrado\n",
        "# (60 días después:)\n",
        "\n",
        "Ventas = [1909.50, 1864, 3029, 1298, 1415.50, 1234.50, 1180, 1669.50, 1260,\n",
        "          1604, 1084, 1787, 1367, 1269, 1504, 1899, 1696, 2214, 3055.50,\n",
        "          1475, 1340, 803.50, 1.749, 1649, 2038, 2384.50, 1619, 892, 2686.50,\n",
        "          1985.50, 1565, 1438, 1978, 1665.50, 497, 2333.50, 2080, 1903, 2279]"
      ],
      "execution_count": null,
      "outputs": []
    },
    {
      "cell_type": "code",
      "metadata": {
        "id": "QX6aVEdE-j4u",
        "colab": {
          "base_uri": "https://localhost:8080/",
          "height": 281
        },
        "outputId": "dceb02b6-6337-43e3-cec5-bc157befddb5"
      },
      "source": [
        "# 1) Mostrar en un gráfico los valores del arreglo anterior\n",
        "# Hacemos un gráfico de los datos que hemos generado\n",
        "x = np.arange(0, len(Ventas))\n",
        "plt.scatter(x,Ventas, label='data', color='blue')\n",
        "plt.title('Ventas');"
      ],
      "execution_count": null,
      "outputs": [
        {
          "output_type": "display_data",
          "data": {
            "image/png": "[encoded data removed]",
            "text/plain": [
              "<Figure size 432x288 with 1 Axes>"
            ]
          },
          "metadata": {
            "needs_background": "light"
          }
        }
      ]
    },
    {
      "cell_type": "code",
      "metadata": {
        "id": "jprU-vjAAIAN",
        "colab": {
          "base_uri": "https://localhost:8080/"
        },
        "outputId": "9c374cb5-828f-4ea4-bdc1-df7500480099"
      },
      "source": [
        "# 2) Obtener e imprimir en pantalla los valroes de la pendiente y el offset de\n",
        "# la regresión lineal correspondiente:\n",
        "\n",
        "# Creamos una instancia de LinearRegression\n",
        "regresion_lineal = LinearRegression() \n",
        "# Instruimos a la regresión lineal que aprenda de los datos (x,y)\n",
        "regresion_lineal.fit(x.reshape(-1,1), Ventas)\n",
        "\n",
        "pendiente = regresion_lineal.coef_\n",
        "print(\"Pendiente: \", pendiente)\n",
        "offset = regresion_lineal.intercept_\n",
        "print(\"Offset: \", offset)"
      ],
      "execution_count": null,
      "outputs": [
        {
          "output_type": "stream",
          "name": "stdout",
          "text": [
            "Pendiente:  [4.64579899]\n",
            "Offset:  1577.1977423076921\n"
          ]
        }
      ]
    },
    {
      "cell_type": "code",
      "metadata": {
        "id": "peIZrXteAV61",
        "colab": {
          "base_uri": "https://localhost:8080/",
          "height": 281
        },
        "outputId": "f822d489-057f-4c2d-b3fb-c7f7a65d6347"
      },
      "source": [
        "# 3) Mostramos el gráfico de los valores del indicador junto con el valor\n",
        "# de la regresión lineal (LA cantidad de valores más 60 días)\n",
        "\n",
        "x2 = np.arange(0, len(x)+60)\n",
        "\n",
        "plt.scatter(x, Ventas, label='data', color='blue') # Ploteo de los datos (Puntos)\n",
        "plt.plot(x2, pendiente*x2 + offset, linestyle='--') # Ploteo de la regresión lineal obtenida\n",
        "plt.title('Ventas');"
      ],
      "execution_count": null,
      "outputs": [
        {
          "output_type": "display_data",
          "data": {
            "image/png": "[encoded data removed]",
            "text/plain": [
              "<Figure size 432x288 with 1 Axes>"
            ]
          },
          "metadata": {
            "needs_background": "light"
          }
        }
      ]
    },
    {
      "cell_type": "code",
      "metadata": {
        "id": "mVn2EwiaAzkz"
      },
      "source": [
        "# 4) Predecir el valor que tendrán las vetnas 60 días después\n",
        "\n",
        "nuevo_x = np.array([len(x)+60]) \n",
        "valor_nuevo = regresion_lineal.predict(nuevo_x.reshape(-1,1))\n",
        "print(\"Valor de predicción: $\", _____, \"MXN\")"
      ],
      "execution_count": null,
      "outputs": []
    },
    {
      "cell_type": "code",
      "metadata": {
        "id": "581YmRMiBRA6"
      },
      "source": [
        "# 5) Realizar un modelo de predicción por regresión polinomial\n",
        "\n",
        "from sklearn.preprocessing import PolynomialFeatures\n",
        "poly_reg =  PolynomialFeatures(degree = _____) #Grado de la regresión polinomial\n",
        "X_poly = poly_reg.fit_transform(x.reshape(-1, 1))\n",
        "lin_reg_2 = LinearRegression()\n",
        "lin_reg_2.fit(_____, _____)"
      ],
      "execution_count": null,
      "outputs": []
    },
    {
      "cell_type": "code",
      "metadata": {
        "id": "UbsJP1ExBb43"
      },
      "source": [
        "# 6) Ploteo de datos contra regresión polinomial\n",
        "plt.scatter(_____ , _____, color = 'red')\n",
        "plt.plot(_____ , lin_reg_2.predict( poly_reg.fit_transform(x.reshape(-1,1))), color = 'blue')\n",
        "plt.title(\"Polynomial Regression\")\n",
        "plt.xlabel(\"Position level\")\n",
        "plt.ylabel(\"Salary\")\n",
        "plt.show()"
      ],
      "execution_count": null,
      "outputs": []
    },
    {
      "cell_type": "code",
      "metadata": {
        "id": "ccfemCBlB5IU"
      },
      "source": [
        "# 7) Predecir el valor que tendrán las vetnas 60 días después\n",
        "\n",
        "valor_nuevo = lin_reg_2.predict(poly_reg.fit_transform([[len(x)+60]]))\n",
        "print(\"Valor de predicción: $\", valor_nuevo, \"MXN\")"
      ],
      "execution_count": null,
      "outputs": []
    }
  ]
}